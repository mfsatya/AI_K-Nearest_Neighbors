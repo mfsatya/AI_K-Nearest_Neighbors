{
 "cells": [
  {
   "cell_type": "markdown",
   "metadata": {},
   "source": [
    "## K - Nearest Neighbors "
   ]
  },
  {
   "cell_type": "markdown",
   "metadata": {},
   "source": [
    "$$Import File$$"
   ]
  },
  {
   "cell_type": "code",
   "execution_count": 29,
   "metadata": {},
   "outputs": [],
   "source": [
    "import csv\n",
    "import math\n",
    "from collections import Counter\n",
    "from sklearn.metrics import classification_report\n",
    "import matplotlib.pyplot as plt "
   ]
  },
  {
   "cell_type": "markdown",
   "metadata": {},
   "source": [
    "$$Fungsi, Prosedur$$"
   ]
  },
  {
   "cell_type": "code",
   "execution_count": 49,
   "metadata": {},
   "outputs": [],
   "source": [
    "#tampung data Train\n",
    "def readDataTrain():\n",
    "    DataTrain = []\n",
    "    f = open('DataTrain_Tugas3_AI.csv', 'r')\n",
    "    Data = csv.reader(f)\n",
    "    for row in Data:\n",
    "        DataTrain.append(row)\n",
    "    DataTrain.pop(0) #menghilangkan header\n",
    "    return DataTrain\n",
    "\n",
    "#tampung data Test\n",
    "def readDataTest():\n",
    "    DataTest = []\n",
    "    f = open('DataTest_Tugas3_AI.csv', 'r')\n",
    "    Data = csv.reader(f)\n",
    "    for row in Data:\n",
    "        DataTest.append(row)\n",
    "    DataTest.pop(0)\n",
    "    return DataTest\n",
    "\n",
    "#Fungsi jarak euclidean\n",
    "def CalculateDistance(data1, data2):\n",
    "    x1 = float(data1[1]) - float(data2[1])\n",
    "    x2 = float(data1[2]) - float(data2[2])\n",
    "    x3 = float(data1[3]) - float(data2[3])\n",
    "    x4 = float(data1[4]) - float(data2[4])\n",
    "    x5 = float(data1[5]) - float(data2[5])\n",
    "    return math.sqrt(x1**2 + x2**2 + x3**2 + x4**2 + x5**2)\n",
    "\n",
    "#Hitung jarak semua list\n",
    "def findNeighborsDistance(data1,data2):\n",
    "    tempval = []\n",
    "    temp = []\n",
    "    \n",
    "    for i in range(0,len(data1)):\n",
    "        for j in range(0,len(data2)):\n",
    "            temp.append([CalculateDistance(data2[j], data1[i]), data2[j][6]])\n",
    "        tempval.append(temp)\n",
    "        temp = [] \n",
    "    return tempval\n",
    "\n",
    "#cari akurasi\n",
    "def getAccuracy(testSet, predictions):\n",
    "    correct = 0\n",
    "    for x in range(len(testSet)):\n",
    "        if testSet[x][-1] is predictions[x]:\n",
    "            correct += 1\n",
    "    return (correct/float(len(testSet))) * 100.0\n",
    "\n",
    "#iterasi ngambil modus class terbanyak dari k elemen pertama yang sudah di sort\n",
    "def getKNN(neighbors,k):\n",
    "    temp = []\n",
    "    KNN = []\n",
    "    \n",
    "    def IndexSort(data):\n",
    "        return data[0]\n",
    "    \n",
    "    for i in range(len(neighbors)):\n",
    "        neighbors[i].sort(key = IndexSort)\n",
    "        \n",
    "    for i in range(len(neighbors)):\n",
    "        for j in range(0,k):\n",
    "            temp.append(neighbors[i][j])\n",
    "        KNN.append(temp)\n",
    "        temp = []\n",
    "    return KNN\n",
    "\n",
    "# return data class prediksi\n",
    "def Predict(Test,Train,k):\n",
    "    Distances = findNeighborsDistance(Test,Train)\n",
    "    NearestNeighbors = getKNN(Distances,k)\n",
    "    \n",
    "    #nyisain class, ditampung ke variable validasi 2\n",
    "    NearestNeighbors2 = []\n",
    "    temp = []\n",
    "    for i in range(len(NearestNeighbors)):\n",
    "        for j in range(len(NearestNeighbors[i])):\n",
    "            temp.append(NearestNeighbors[i][j][1])\n",
    "        NearestNeighbors2.append(temp)\n",
    "        temp = []\n",
    "\n",
    "    #nampung HASIL Prediksi\n",
    "    Hasil = []\n",
    "    for i in range(len(NearestNeighbors2)):\n",
    "        data = Counter (NearestNeighbors2[i])\n",
    "        Hasil.append(data.most_common(1)[0][0])\n",
    "        \n",
    "    return Hasil \n",
    "\n",
    "def splitValidation(Split1,Split2):\n",
    "    #Cari K\n",
    "    K = []\n",
    "    for i in range(len(Split1)):\n",
    "        K.append((getAccuracy(Split1,Predict(Split1,Split2,i+1))))\n",
    "        print(i,K[i])\n",
    "    return [K.index(max(K)), max(K)]"
   ]
  },
  {
   "cell_type": "code",
   "execution_count": 38,
   "metadata": {},
   "outputs": [],
   "source": []
  },
  {
   "cell_type": "markdown",
   "metadata": {},
   "source": [
    "$$Variable Global$$"
   ]
  },
  {
   "cell_type": "code",
   "execution_count": 48,
   "metadata": {},
   "outputs": [],
   "source": [
    "#Variable Tampung Data Train & test\n",
    "DataTrain = readDataTrain()\n",
    "DataTest = readDataTest()"
   ]
  },
  {
   "cell_type": "markdown",
   "metadata": {},
   "source": [
    "$$SplitDataValidation$$"
   ]
  },
  {
   "cell_type": "code",
   "execution_count": 50,
   "metadata": {},
   "outputs": [
    {
     "name": "stdout",
     "output_type": "stream",
     "text": [
      "0 74.0\n",
      "1 74.0\n",
      "2 79.0\n",
      "3 78.0\n",
      "4 80.0\n",
      "5 80.0\n",
      "6 83.0\n",
      "7 82.0\n",
      "8 80.0\n",
      "9 82.0\n",
      "10 83.0\n",
      "11 84.0\n",
      "12 85.0\n",
      "13 83.0\n",
      "14 84.0\n",
      "15 84.0\n",
      "16 84.0\n",
      "17 83.0\n",
      "18 85.0\n",
      "19 82.0\n",
      "20 84.0\n",
      "21 80.0\n",
      "22 80.0\n",
      "23 81.0\n",
      "24 81.0\n",
      "25 79.0\n",
      "26 81.0\n",
      "27 80.0\n",
      "28 79.0\n",
      "29 79.0\n",
      "30 79.0\n",
      "31 80.0\n",
      "32 81.0\n",
      "33 80.0\n",
      "34 80.0\n",
      "35 78.0\n",
      "36 79.0\n",
      "37 78.0\n",
      "38 79.0\n",
      "39 80.0\n",
      "40 80.0\n",
      "41 80.0\n",
      "42 80.0\n",
      "43 80.0\n",
      "44 80.0\n",
      "45 80.0\n",
      "46 81.0\n",
      "47 80.0\n",
      "48 80.0\n",
      "49 78.0\n",
      "50 79.0\n",
      "51 80.0\n",
      "52 81.0\n",
      "53 80.0\n",
      "54 80.0\n",
      "55 81.0\n",
      "56 82.0\n",
      "57 81.0\n",
      "58 81.0\n",
      "59 80.0\n",
      "60 80.0\n",
      "61 79.0\n",
      "62 80.0\n",
      "63 79.0\n",
      "64 79.0\n",
      "65 78.0\n",
      "66 77.0\n",
      "67 77.0\n",
      "68 77.0\n",
      "69 77.0\n",
      "70 76.0\n",
      "71 77.0\n",
      "72 77.0\n",
      "73 75.0\n",
      "74 75.0\n",
      "75 75.0\n",
      "76 75.0\n",
      "77 76.0\n",
      "78 76.0\n",
      "79 77.0\n",
      "80 76.0\n",
      "81 76.0\n",
      "82 76.0\n",
      "83 76.0\n",
      "84 75.0\n",
      "85 76.0\n",
      "86 76.0\n",
      "87 76.0\n",
      "88 75.0\n",
      "89 75.0\n",
      "90 76.0\n",
      "91 76.0\n",
      "92 76.0\n",
      "93 76.0\n",
      "94 75.0\n",
      "95 75.0\n",
      "96 74.0\n",
      "97 75.0\n",
      "98 74.0\n",
      "99 74.0\n"
     ]
    }
   ],
   "source": [
    "#split validation\n",
    "Train1 = DataTrain[:100]\n",
    "Train2 = DataTrain[100:]\n",
    "CrossVal = splitValidation(Train1,Train2)\n",
    "#print(\"K : \",CrossVal[0],\", Accuracy : \", CrossVal[1])"
   ]
  },
  {
   "cell_type": "markdown",
   "metadata": {},
   "source": [
    "$$Predict Class Testing$$"
   ]
  },
  {
   "cell_type": "code",
   "execution_count": null,
   "metadata": {
    "scrolled": true
   },
   "outputs": [],
   "source": [
    "Train1 = DataTrain[:100]\n",
    "Train2 = DataTrain[100:]\n",
    "\n"
   ]
  },
  {
   "cell_type": "code",
   "execution_count": null,
   "metadata": {},
   "outputs": [],
   "source": []
  },
  {
   "cell_type": "code",
   "execution_count": null,
   "metadata": {},
   "outputs": [],
   "source": []
  },
  {
   "cell_type": "code",
   "execution_count": null,
   "metadata": {},
   "outputs": [],
   "source": []
  }
 ],
 "metadata": {
  "kernelspec": {
   "display_name": "Python 3",
   "language": "python",
   "name": "python3"
  },
  "language_info": {
   "codemirror_mode": {
    "name": "ipython",
    "version": 3
   },
   "file_extension": ".py",
   "mimetype": "text/x-python",
   "name": "python",
   "nbconvert_exporter": "python",
   "pygments_lexer": "ipython3",
   "version": "3.6.5"
  }
 },
 "nbformat": 4,
 "nbformat_minor": 2
}
